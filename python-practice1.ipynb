{
 "cells": [
  {
   "cell_type": "code",
   "execution_count": null,
   "id": "39c8f567",
   "metadata": {},
   "outputs": [],
   "source": [
    "a = \"vikas\""
   ]
  },
  {
   "cell_type": "code",
   "execution_count": null,
   "id": "dcd97683",
   "metadata": {},
   "outputs": [],
   "source": [
    "a[-1]"
   ]
  },
  {
   "cell_type": "code",
   "execution_count": null,
   "id": "713a3625",
   "metadata": {},
   "outputs": [],
   "source": [
    "a[-3]"
   ]
  },
  {
   "cell_type": "code",
   "execution_count": null,
   "id": "6cd58aa0",
   "metadata": {},
   "outputs": [],
   "source": [
    "a[0]\n"
   ]
  },
  {
   "cell_type": "code",
   "execution_count": null,
   "id": "959700f7",
   "metadata": {},
   "outputs": [],
   "source": [
    "b= \"i am vikas\"\n"
   ]
  },
  {
   "cell_type": "code",
   "execution_count": null,
   "id": "6f3ee422",
   "metadata": {},
   "outputs": [],
   "source": [
    "b[-1]"
   ]
  },
  {
   "cell_type": "code",
   "execution_count": null,
   "id": "52783e7f",
   "metadata": {},
   "outputs": [],
   "source": [
    "b[-2]"
   ]
  },
  {
   "cell_type": "code",
   "execution_count": null,
   "id": "3d422a79",
   "metadata": {},
   "outputs": [],
   "source": [
    "b[0:300]"
   ]
  },
  {
   "cell_type": "code",
   "execution_count": null,
   "id": "ea1dc349",
   "metadata": {},
   "outputs": [],
   "source": [
    "b[0:2]"
   ]
  },
  {
   "cell_type": "code",
   "execution_count": null,
   "id": "a2771c1d",
   "metadata": {},
   "outputs": [],
   "source": [
    "b[-1:-300]"
   ]
  },
  {
   "cell_type": "code",
   "execution_count": null,
   "id": "cd1cd755",
   "metadata": {},
   "outputs": [],
   "source": [
    "b[-6:0]"
   ]
  },
  {
   "cell_type": "code",
   "execution_count": null,
   "id": "03ac9d7e",
   "metadata": {},
   "outputs": [],
   "source": [
    "b[-6:-1]"
   ]
  },
  {
   "cell_type": "code",
   "execution_count": null,
   "id": "9a48efec",
   "metadata": {},
   "outputs": [],
   "source": [
    "c=\"suraj\""
   ]
  },
  {
   "cell_type": "code",
   "execution_count": null,
   "id": "64842929",
   "metadata": {},
   "outputs": [],
   "source": [
    "c[0:5:2]"
   ]
  },
  {
   "cell_type": "code",
   "execution_count": null,
   "id": "16b810c6",
   "metadata": {},
   "outputs": [],
   "source": [
    "c[0:5:3]"
   ]
  },
  {
   "cell_type": "code",
   "execution_count": null,
   "id": "af48e9a7",
   "metadata": {},
   "outputs": [],
   "source": [
    "c[0:5:-1]\n"
   ]
  },
  {
   "cell_type": "code",
   "execution_count": null,
   "id": "345d0d69",
   "metadata": {},
   "outputs": [],
   "source": [
    "c[-1:-4:-2]"
   ]
  },
  {
   "cell_type": "code",
   "execution_count": null,
   "id": "b40eaf8f",
   "metadata": {},
   "outputs": [],
   "source": [
    "c[::]"
   ]
  },
  {
   "cell_type": "code",
   "execution_count": null,
   "id": "3c64d07d",
   "metadata": {},
   "outputs": [],
   "source": [
    "c[:6]"
   ]
  },
  {
   "cell_type": "code",
   "execution_count": null,
   "id": "2c415092",
   "metadata": {},
   "outputs": [],
   "source": [
    "c[1:]"
   ]
  },
  {
   "cell_type": "code",
   "execution_count": null,
   "id": "86cfc9cc",
   "metadata": {},
   "outputs": [],
   "source": [
    "c[::-1]"
   ]
  },
  {
   "cell_type": "code",
   "execution_count": null,
   "id": "41c6fc8e",
   "metadata": {},
   "outputs": [],
   "source": [
    "c*3"
   ]
  },
  {
   "cell_type": "code",
   "execution_count": null,
   "id": "7b35a6e0",
   "metadata": {},
   "outputs": [],
   "source": [
    "c.find('r')"
   ]
  },
  {
   "cell_type": "code",
   "execution_count": null,
   "id": "da6feeec",
   "metadata": {},
   "outputs": [],
   "source": [
    "l = c.split()"
   ]
  },
  {
   "cell_type": "code",
   "execution_count": null,
   "id": "9f729eff",
   "metadata": {},
   "outputs": [],
   "source": [
    "l"
   ]
  },
  {
   "cell_type": "code",
   "execution_count": null,
   "id": "b7b874b1",
   "metadata": {},
   "outputs": [],
   "source": [
    "l[0]"
   ]
  },
  {
   "cell_type": "code",
   "execution_count": null,
   "id": "aa233869",
   "metadata": {},
   "outputs": [],
   "source": [
    "x=\"vikas\"\n",
    "y=\"prajapti\""
   ]
  },
  {
   "cell_type": "code",
   "execution_count": null,
   "id": "5f66530a",
   "metadata": {},
   "outputs": [],
   "source": [
    "x.join(y)"
   ]
  },
  {
   "cell_type": "code",
   "execution_count": null,
   "id": "cc3f9f0d",
   "metadata": {},
   "outputs": [],
   "source": [
    "t = (\"vikas\", 12, 32) "
   ]
  },
  {
   "cell_type": "code",
   "execution_count": null,
   "id": "36935953",
   "metadata": {},
   "outputs": [],
   "source": [
    "type(t)"
   ]
  },
  {
   "cell_type": "code",
   "execution_count": null,
   "id": "3669d127",
   "metadata": {},
   "outputs": [],
   "source": [
    "t[0]"
   ]
  },
  {
   "cell_type": "code",
   "execution_count": null,
   "id": "4ab8f4b3",
   "metadata": {},
   "outputs": [],
   "source": [
    "t[::2]"
   ]
  },
  {
   "cell_type": "code",
   "execution_count": null,
   "id": "d7a1ad78",
   "metadata": {},
   "outputs": [],
   "source": [
    "n = \"vikas prajapati\""
   ]
  },
  {
   "cell_type": "code",
   "execution_count": null,
   "id": "2cf39bea",
   "metadata": {},
   "outputs": [],
   "source": [
    "n[0]"
   ]
  },
  {
   "cell_type": "code",
   "execution_count": null,
   "id": "bc1c893f",
   "metadata": {},
   "outputs": [],
   "source": [
    "n[0:3:1]"
   ]
  },
  {
   "cell_type": "code",
   "execution_count": null,
   "id": "69143feb",
   "metadata": {},
   "outputs": [],
   "source": [
    "n[0:3:2]"
   ]
  },
  {
   "cell_type": "code",
   "execution_count": null,
   "id": "9c6db5b5",
   "metadata": {},
   "outputs": [],
   "source": [
    "n[-1]"
   ]
  },
  {
   "cell_type": "code",
   "execution_count": null,
   "id": "37ee3991",
   "metadata": {},
   "outputs": [],
   "source": [
    "n[-1:2:3]"
   ]
  },
  {
   "cell_type": "code",
   "execution_count": null,
   "id": "a08e2845",
   "metadata": {},
   "outputs": [],
   "source": [
    "a=\"we are here for learning data science\""
   ]
  },
  {
   "cell_type": "code",
   "execution_count": null,
   "id": "acb4e028",
   "metadata": {},
   "outputs": [],
   "source": [
    "a[:-1-21:-1]"
   ]
  },
  {
   "cell_type": "code",
   "execution_count": null,
   "id": "132ea846",
   "metadata": {},
   "outputs": [],
   "source": [
    "t=input()\n",
    "u=input()\n",
    "s = int(t)+ int(u)\n",
    "s"
   ]
  },
  {
   "cell_type": "code",
   "execution_count": null,
   "id": "ac3e9665",
   "metadata": {},
   "outputs": [],
   "source": [
    "name=input(\"Enter ur name: \")\n",
    "age=int(input(\"Enter ur age: \"))\n",
    "h = (2022-age)+100\n",
    "print(name,\"will be 100 years old in\",h)"
   ]
  },
  {
   "cell_type": "code",
   "execution_count": null,
   "id": "c0933902",
   "metadata": {},
   "outputs": [],
   "source": [
    "f_name=input()\n",
    "l_name=input()\n",
    "name= f_name+ l_name\n",
    "name\n",
    "\n"
   ]
  },
  {
   "cell_type": "code",
   "execution_count": null,
   "id": "1b5f89d9",
   "metadata": {},
   "outputs": [],
   "source": [
    "name[-1:-15:-1]"
   ]
  },
  {
   "cell_type": "code",
   "execution_count": null,
   "id": "07e334bb",
   "metadata": {},
   "outputs": [],
   "source": [
    "s=input(\"Enter the string u want: \")\n",
    "c=0\n",
    "for i in s:\n",
    "    c=c+1\n",
    "    print(c)"
   ]
  },
  {
   "cell_type": "code",
   "execution_count": null,
   "id": "e8d51af2",
   "metadata": {},
   "outputs": [],
   "source": [
    "i=1\n",
    "while i<=10:\n",
    "    print(i)\n",
    "    i=i+1\n",
    "    "
   ]
  },
  {
   "cell_type": "code",
   "execution_count": null,
   "id": "1bc80391",
   "metadata": {},
   "outputs": [],
   "source": [
    "b=121%10\n",
    "b\n"
   ]
  },
  {
   "cell_type": "code",
   "execution_count": null,
   "id": "359df980",
   "metadata": {},
   "outputs": [],
   "source": [
    "c=0\n",
    "b=121%10\n",
    "b\n",
    "c=c*10+b\n",
    "c\n"
   ]
  },
  {
   "cell_type": "code",
   "execution_count": null,
   "id": "729f6b64",
   "metadata": {},
   "outputs": [],
   "source": [
    "def test():\n",
    "    print(\"vikas prajapati\")"
   ]
  },
  {
   "cell_type": "code",
   "execution_count": null,
   "id": "45005573",
   "metadata": {},
   "outputs": [],
   "source": [
    "type(test())"
   ]
  },
  {
   "cell_type": "code",
   "execution_count": null,
   "id": "a2f07bf3",
   "metadata": {},
   "outputs": [],
   "source": [
    "l=[1,213,1,3,12, \"vikas\", [1,12,132,1,5]]"
   ]
  },
  {
   "cell_type": "code",
   "execution_count": null,
   "id": "0f2632e5",
   "metadata": {},
   "outputs": [],
   "source": [
    "    def test2(a):\n",
    "        n=[]\n",
    "        if type(a) == list:\n",
    "            for i in a:\n",
    "                if type(i) == int:\n",
    "                    n.append(i)\n",
    "\n",
    "        return n"
   ]
  },
  {
   "cell_type": "code",
   "execution_count": null,
   "id": "4b521aba",
   "metadata": {},
   "outputs": [],
   "source": [
    "test2([12,25])"
   ]
  },
  {
   "cell_type": "code",
   "execution_count": null,
   "id": "7ebdd1bc",
   "metadata": {},
   "outputs": [],
   "source": [
    "def test3(b):\n",
    "    if type(b) == dict:\n",
    "        return b.keys()\n",
    "    else:\n",
    "        return \"u have not passed a dict!!\""
   ]
  },
  {
   "cell_type": "code",
   "execution_count": null,
   "id": "ab9b65ed",
   "metadata": {},
   "outputs": [],
   "source": [
    "a={\"name\": \"vikas\", \"Roll no\": 12, \"Address\": \"Noida\", \"Phone\": 8200408840}"
   ]
  },
  {
   "cell_type": "code",
   "execution_count": null,
   "id": "36c31d62",
   "metadata": {},
   "outputs": [],
   "source": [
    "test3(a)"
   ]
  },
  {
   "cell_type": "code",
   "execution_count": null,
   "id": "f55756d0",
   "metadata": {},
   "outputs": [],
   "source": [
    "def test4(a,b):\n",
    "    if type(a) == list and type(b) == list:\n",
    "        return a.extend(b)\n",
    "    else:\n",
    "\n",
    "        return \"The given data is not type of list!!!!\""
   ]
  },
  {
   "cell_type": "code",
   "execution_count": null,
   "id": "ecc25194",
   "metadata": {},
   "outputs": [],
   "source": [
    "l1=[1,2,3,5,15,16,\"vikas\"]\n",
    "l2=[\"prajapati\"]"
   ]
  },
  {
   "cell_type": "code",
   "execution_count": null,
   "id": "3bf14bb0",
   "metadata": {},
   "outputs": [],
   "source": [
    "test4(l1,l2)"
   ]
  },
  {
   "cell_type": "code",
   "execution_count": null,
   "id": "34f7f19e",
   "metadata": {},
   "outputs": [],
   "source": [
    "l1"
   ]
  },
  {
   "cell_type": "code",
   "execution_count": null,
   "id": "c8a9ac0e",
   "metadata": {},
   "outputs": [],
   "source": [
    "def test5(n):\n",
    "    \"\"\"This function to create a triangle\n",
    "    where according to users input number its execute\"\"\"\n",
    "    for i in range(0,n):\n",
    "        for j in range(0,i+1):\n",
    "            print(\"*\", end= \"\")\n",
    "        print(\"\\r\")\n"
   ]
  },
  {
   "cell_type": "code",
   "execution_count": null,
   "id": "11f95383",
   "metadata": {},
   "outputs": [],
   "source": [
    "test5(5)"
   ]
  },
  {
   "cell_type": "code",
   "execution_count": null,
   "id": "8d75f597",
   "metadata": {},
   "outputs": [],
   "source": [
    "test5(2\n",
    "     )"
   ]
  },
  {
   "cell_type": "code",
   "execution_count": null,
   "id": "46d0bd52",
   "metadata": {},
   "outputs": [],
   "source": [
    "\n",
    "test5(7)"
   ]
  },
  {
   "cell_type": "code",
   "execution_count": null,
   "id": "1936e3a1",
   "metadata": {},
   "outputs": [],
   "source": [
    "num=int(input(\"Enter the integer number : \"))\n",
    "sum=0\n",
    "for i in range(1,num+1):\n",
    "    sum=sum+i\n",
    "print(f\"Sum of all the numbers from 1 to {num} is {sum}.\")\n"
   ]
  },
  {
   "cell_type": "code",
   "execution_count": null,
   "id": "02beb078",
   "metadata": {},
   "outputs": [],
   "source": [
    "import random\n",
    "secret=random.randint(0,100)\n",
    "guess=0\n",
    "while secret!=guess:\n",
    "    guess=int(input(\"Guess a number : \"))\n",
    "    if secret==guess:\n",
    "        print(\"Congratulations! you guessed it right.\")\n",
    "    elif secret>guess:\n",
    "        print(\"Number too small.\")\n",
    "    elif secret<guess:\n",
    "        print(\"Number too large.\")"
   ]
  },
  {
   "cell_type": "code",
   "execution_count": null,
   "id": "9eac0a15",
   "metadata": {},
   "outputs": [],
   "source": [
    "def check(a):\n",
    "    c=0\n",
    "    for i in a:\n",
    "        c=c+1\n",
    "    return c\n",
    "    "
   ]
  },
  {
   "cell_type": "code",
   "execution_count": null,
   "id": "ac4e0225",
   "metadata": {},
   "outputs": [],
   "source": [
    "b=\"vikas prajapoati\""
   ]
  },
  {
   "cell_type": "code",
   "execution_count": null,
   "id": "f2437253",
   "metadata": {},
   "outputs": [],
   "source": [
    "len(b)"
   ]
  },
  {
   "cell_type": "code",
   "execution_count": null,
   "id": "32fc80bf",
   "metadata": {},
   "outputs": [],
   "source": [
    "check(b)"
   ]
  },
  {
   "cell_type": "code",
   "execution_count": null,
   "id": "b457ef33",
   "metadata": {},
   "outputs": [],
   "source": []
  }
 ],
 "metadata": {
  "kernelspec": {
   "display_name": "Python 3 (ipykernel)",
   "language": "python",
   "name": "python3"
  },
  "language_info": {
   "codemirror_mode": {
    "name": "ipython",
    "version": 3
   },
   "file_extension": ".py",
   "mimetype": "text/x-python",
   "name": "python",
   "nbconvert_exporter": "python",
   "pygments_lexer": "ipython3",
   "version": "3.10.7"
  }
 },
 "nbformat": 4,
 "nbformat_minor": 5
}
